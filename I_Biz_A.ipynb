{
 "cells": [
  {
   "cell_type": "code",
   "execution_count": 1,
   "metadata": {},
   "outputs": [],
   "source": [
    "import random"
   ]
  },
  {
   "cell_type": "code",
   "execution_count": 2,
   "metadata": {},
   "outputs": [],
   "source": [
    "# 11. feladat, Diffie-Hellman kulcscsere\n",
    "#Közös nyilvános értékek \n",
    "\n",
    "p = 41      #prím, valós esetben megfelelően nagy\n",
    "g = 22      #primitív gyök modulo p, 2 <= g < p-2 "
   ]
  },
  {
   "cell_type": "code",
   "execution_count": 3,
   "metadata": {},
   "outputs": [],
   "source": [
    "#Gyors moduláris hatványozás\n",
    "def mod_gyors_hatv(bazis, exponens, modulus):\n",
    "    if modulus == 1 : return 0\n",
    "    eredmeny = 1\n",
    "    while exponens > 0:\n",
    "        if exponens % 2 == 1:\n",
    "            eredmeny = (bazis * eredmeny) % modulus\n",
    "            exponens = exponens -1\n",
    "        else:             \n",
    "            bazis = (bazis * bazis) % modulus\n",
    "            exponens = exponens/2\n",
    "    return eredmeny"
   ]
  },
  {
   "cell_type": "code",
   "execution_count": 4,
   "metadata": {},
   "outputs": [
    {
     "name": "stdout",
     "output_type": "stream",
     "text": [
      "37\n"
     ]
    }
   ],
   "source": [
    "#Alice választott titkos száma, a eleme a {0,..., p-2} halmaznak\n",
    "\n",
    "a = random.randint(0,(p-2)+1)   \n",
    "# a random függvény felső határ paraméter értékét nem veheti fel a generált szám, ezért a +1\n",
    "print(a)"
   ]
  },
  {
   "cell_type": "code",
   "execution_count": 5,
   "metadata": {},
   "outputs": [
    {
     "name": "stdout",
     "output_type": "stream",
     "text": [
      "23\n"
     ]
    }
   ],
   "source": [
    "#Bob választott titkos száma, a eleme a {0,..., p-2} halmaznak\n",
    "\n",
    "b = random.randint(0,(p-2)+1)\n",
    "print(b)"
   ]
  },
  {
   "cell_type": "code",
   "execution_count": 6,
   "metadata": {},
   "outputs": [
    {
     "name": "stdout",
     "output_type": "stream",
     "text": [
      "17\n"
     ]
    }
   ],
   "source": [
    "#Alice elküldi Bobnak a következő értéket\n",
    "\n",
    "A = mod_gyors_hatv(g, a, p) \n",
    "print(A)"
   ]
  },
  {
   "cell_type": "code",
   "execution_count": 7,
   "metadata": {},
   "outputs": [
    {
     "name": "stdout",
     "output_type": "stream",
     "text": [
      "12\n"
     ]
    }
   ],
   "source": [
    "#Bob elküldi Alicenak a következő értéket\n",
    "\n",
    "B = mod_gyors_hatv(g, b, p) \n",
    "print(B)"
   ]
  },
  {
   "cell_type": "code",
   "execution_count": 8,
   "metadata": {},
   "outputs": [
    {
     "name": "stdout",
     "output_type": "stream",
     "text": [
      "7\n"
     ]
    }
   ],
   "source": [
    "#Alice kiszámolja a következő (titkos)kulcs értéket\n",
    "\n",
    "kulcs_A = mod_gyors_hatv(B, a, p) \n",
    "print(kulcs_A)"
   ]
  },
  {
   "cell_type": "code",
   "execution_count": 9,
   "metadata": {},
   "outputs": [
    {
     "name": "stdout",
     "output_type": "stream",
     "text": [
      "7\n"
     ]
    }
   ],
   "source": [
    "#Bob kiszámolja a következő (titkos)kulcs értéket\n",
    "\n",
    "kulcs_B = mod_gyors_hatv(A, b, p) \n",
    "print(kulcs_B)"
   ]
  },
  {
   "cell_type": "code",
   "execution_count": 10,
   "metadata": {},
   "outputs": [
    {
     "name": "stdout",
     "output_type": "stream",
     "text": [
      "A két generált kulcs egyenlő\n"
     ]
    }
   ],
   "source": [
    "#A kulcsok egyenlőségének vizsgálata\n",
    "if kulcs_A == kulcs_B :\n",
    "    print(\"A két generált kulcs egyenlő\")\n",
    "else:\n",
    "    print(\"A két generált kulcs NEM egyenlő, valami hiba történt\")"
   ]
  }
 ],
 "metadata": {
  "kernelspec": {
   "display_name": "Python 3",
   "language": "python",
   "name": "python3"
  },
  "language_info": {
   "codemirror_mode": {
    "name": "ipython",
    "version": 3
   },
   "file_extension": ".py",
   "mimetype": "text/x-python",
   "name": "python",
   "nbconvert_exporter": "python",
   "pygments_lexer": "ipython3",
   "version": "3.7.1"
  }
 },
 "nbformat": 4,
 "nbformat_minor": 2
}
